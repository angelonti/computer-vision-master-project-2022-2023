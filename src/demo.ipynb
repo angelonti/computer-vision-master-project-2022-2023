{
 "cells": [
  {
   "cell_type": "code",
   "execution_count": 1,
   "outputs": [],
   "source": [
    "!pip install -q transformers datasets lightning einops timm torchmetrics"
   ],
   "metadata": {
    "collapsed": false,
    "ExecuteTime": {
     "start_time": "2023-09-10T18:07:11.698962800Z"
    }
   },
   "id": "initial_id"
  },
  {
   "cell_type": "code",
   "execution_count": 2,
   "outputs": [
    {
     "name": "stderr",
     "output_type": "stream",
     "text": [
      "Using custom data configuration Maysee--tiny-imagenet-2eb6c3acd8ebc62a\n",
      "C:\\Users\\aonti\\Anaconda3\\envs\\ResearchMethods\\lib\\site-packages\\scipy\\__init__.py:146: UserWarning: A NumPy version >=1.16.5 and <1.23.0 is required for this version of SciPy (detected version 1.24.3\n",
      "  warnings.warn(f\"A NumPy version >={np_minversion} and <{np_maxversion}\"\n",
      "Found cached dataset parquet (C:/Users/aonti/.cache/huggingface/datasets/Maysee___parquet/Maysee--tiny-imagenet-2eb6c3acd8ebc62a/0.0.0/2a3b91fbd88a2c90d1dbbb32b460cf621d31bd5b05b934492fdef7d8d6f236ec)\n"
     ]
    },
    {
     "data": {
      "text/plain": "  0%|          | 0/2 [00:00<?, ?it/s]",
      "application/vnd.jupyter.widget-view+json": {
       "version_major": 2,
       "version_minor": 0,
       "model_id": "16589c8a864c4498be1ed148f0383b2f"
      }
     },
     "metadata": {},
     "output_type": "display_data"
    }
   ],
   "source": [
    "from datasets import load_dataset\n",
    "\n",
    "train_ds, test_ds = load_dataset(\"Maysee/tiny-imagenet\", split=[\"train\", \"valid\"])"
   ],
   "metadata": {
    "collapsed": false,
    "ExecuteTime": {
     "end_time": "2023-09-10T18:07:32.986936500Z",
     "start_time": "2023-09-10T18:07:24.566047300Z"
    }
   },
   "id": "f3b4685c6e164353"
  },
  {
   "cell_type": "code",
   "execution_count": 12,
   "outputs": [
    {
     "data": {
      "text/plain": "Dataset({\n    features: ['image', 'label'],\n    num_rows: 9832\n})"
     },
     "execution_count": 12,
     "metadata": {},
     "output_type": "execute_result"
    }
   ],
   "source": [
    "test_ds"
   ],
   "metadata": {
    "collapsed": false,
    "ExecuteTime": {
     "end_time": "2023-09-10T18:09:20.520663900Z",
     "start_time": "2023-09-10T18:09:20.489715Z"
    }
   },
   "id": "36bc6fe23f0dbe4"
  },
  {
   "cell_type": "code",
   "execution_count": 9,
   "outputs": [
    {
     "name": "stderr",
     "output_type": "stream",
     "text": [
      "Loading cached processed dataset at C:\\Users\\aonti\\.cache\\huggingface\\datasets\\Maysee___parquet\\Maysee--tiny-imagenet-2eb6c3acd8ebc62a\\0.0.0\\2a3b91fbd88a2c90d1dbbb32b460cf621d31bd5b05b934492fdef7d8d6f236ec\\cache-baeafd052d8975cf.arrow\n"
     ]
    }
   ],
   "source": [
    "import numpy as np\n",
    "\n",
    "test_ds = test_ds.filter(lambda example: np.array(example[\"image\"]).ndim == 3)"
   ],
   "metadata": {
    "collapsed": false,
    "ExecuteTime": {
     "end_time": "2023-09-10T18:08:09.231038500Z",
     "start_time": "2023-09-10T18:08:09.200118100Z"
    }
   },
   "id": "3911e9df43783a02"
  },
  {
   "cell_type": "code",
   "execution_count": 10,
   "outputs": [
    {
     "data": {
      "text/plain": "9832"
     },
     "execution_count": 10,
     "metadata": {},
     "output_type": "execute_result"
    }
   ],
   "source": [
    "len(test_ds)"
   ],
   "metadata": {
    "collapsed": false,
    "ExecuteTime": {
     "end_time": "2023-09-10T18:08:14.224433700Z",
     "start_time": "2023-09-10T18:08:14.205445600Z"
    }
   },
   "id": "b95b4d159e9e4330"
  },
  {
   "cell_type": "code",
   "execution_count": 14,
   "outputs": [
    {
     "name": "stdout",
     "output_type": "stream",
     "text": [
      "{0: 'n01443537', 1: 'n01629819', 2: 'n01641577', 3: 'n01644900', 4: 'n01698640', 5: 'n01742172', 6: 'n01768244', 7: 'n01770393', 8: 'n01774384', 9: 'n01774750', 10: 'n01784675', 11: 'n01882714', 12: 'n01910747', 13: 'n01917289', 14: 'n01944390', 15: 'n01950731', 16: 'n01983481', 17: 'n01984695', 18: 'n02002724', 19: 'n02056570', 20: 'n02058221', 21: 'n02074367', 22: 'n02094433', 23: 'n02099601', 24: 'n02099712', 25: 'n02106662', 26: 'n02113799', 27: 'n02123045', 28: 'n02123394', 29: 'n02124075', 30: 'n02125311', 31: 'n02129165', 32: 'n02132136', 33: 'n02165456', 34: 'n02226429', 35: 'n02231487', 36: 'n02233338', 37: 'n02236044', 38: 'n02268443', 39: 'n02279972', 40: 'n02281406', 41: 'n02321529', 42: 'n02364673', 43: 'n02395406', 44: 'n02403003', 45: 'n02410509', 46: 'n02415577', 47: 'n02423022', 48: 'n02437312', 49: 'n02480495', 50: 'n02481823', 51: 'n02486410', 52: 'n02504458', 53: 'n02509815', 54: 'n02666347', 55: 'n02669723', 56: 'n02699494', 57: 'n02769748', 58: 'n02788148', 59: 'n02791270', 60: 'n02793495', 61: 'n02795169', 62: 'n02802426', 63: 'n02808440', 64: 'n02814533', 65: 'n02814860', 66: 'n02815834', 67: 'n02823428', 68: 'n02837789', 69: 'n02841315', 70: 'n02843684', 71: 'n02883205', 72: 'n02892201', 73: 'n02909870', 74: 'n02917067', 75: 'n02927161', 76: 'n02948072', 77: 'n02950826', 78: 'n02963159', 79: 'n02977058', 80: 'n02988304', 81: 'n03014705', 82: 'n03026506', 83: 'n03042490', 84: 'n03085013', 85: 'n03089624', 86: 'n03100240', 87: 'n03126707', 88: 'n03160309', 89: 'n03179701', 90: 'n03201208', 91: 'n03255030', 92: 'n03355925', 93: 'n03373237', 94: 'n03388043', 95: 'n03393912', 96: 'n03400231', 97: 'n03404251', 98: 'n03424325', 99: 'n03444034', 100: 'n03447447', 101: 'n03544143', 102: 'n03584254', 103: 'n03599486', 104: 'n03617480', 105: 'n03637318', 106: 'n03649909', 107: 'n03662601', 108: 'n03670208', 109: 'n03706229', 110: 'n03733131', 111: 'n03763968', 112: 'n03770439', 113: 'n03796401', 114: 'n03814639', 115: 'n03837869', 116: 'n03838899', 117: 'n03854065', 118: 'n03891332', 119: 'n03902125', 120: 'n03930313', 121: 'n03937543', 122: 'n03970156', 123: 'n03977966', 124: 'n03980874', 125: 'n03983396', 126: 'n03992509', 127: 'n04008634', 128: 'n04023962', 129: 'n04070727', 130: 'n04074963', 131: 'n04099969', 132: 'n04118538', 133: 'n04133789', 134: 'n04146614', 135: 'n04149813', 136: 'n04179913', 137: 'n04251144', 138: 'n04254777', 139: 'n04259630', 140: 'n04265275', 141: 'n04275548', 142: 'n04285008', 143: 'n04311004', 144: 'n04328186', 145: 'n04356056', 146: 'n04366367', 147: 'n04371430', 148: 'n04376876', 149: 'n04398044', 150: 'n04399382', 151: 'n04417672', 152: 'n04456115', 153: 'n04465666', 154: 'n04486054', 155: 'n04487081', 156: 'n04501370', 157: 'n04507155', 158: 'n04532106', 159: 'n04532670', 160: 'n04540053', 161: 'n04560804', 162: 'n04562935', 163: 'n04596742', 164: 'n04598010', 165: 'n06596364', 166: 'n07056680', 167: 'n07583066', 168: 'n07614500', 169: 'n07615774', 170: 'n07646821', 171: 'n07647870', 172: 'n07657664', 173: 'n07695742', 174: 'n07711569', 175: 'n07715103', 176: 'n07720875', 177: 'n07749582', 178: 'n07753592', 179: 'n07768694', 180: 'n07871810', 181: 'n07873807', 182: 'n07875152', 183: 'n07920052', 184: 'n07975909', 185: 'n08496334', 186: 'n08620881', 187: 'n08742578', 188: 'n09193705', 189: 'n09246464', 190: 'n09256479', 191: 'n09332890', 192: 'n09428293', 193: 'n12267677', 194: 'n12520864', 195: 'n13001041', 196: 'n13652335', 197: 'n13652994', 198: 'n13719102', 199: 'n14991210'}\n",
      "{'n01443537': 0, 'n01629819': 1, 'n01641577': 2, 'n01644900': 3, 'n01698640': 4, 'n01742172': 5, 'n01768244': 6, 'n01770393': 7, 'n01774384': 8, 'n01774750': 9, 'n01784675': 10, 'n01882714': 11, 'n01910747': 12, 'n01917289': 13, 'n01944390': 14, 'n01950731': 15, 'n01983481': 16, 'n01984695': 17, 'n02002724': 18, 'n02056570': 19, 'n02058221': 20, 'n02074367': 21, 'n02094433': 22, 'n02099601': 23, 'n02099712': 24, 'n02106662': 25, 'n02113799': 26, 'n02123045': 27, 'n02123394': 28, 'n02124075': 29, 'n02125311': 30, 'n02129165': 31, 'n02132136': 32, 'n02165456': 33, 'n02226429': 34, 'n02231487': 35, 'n02233338': 36, 'n02236044': 37, 'n02268443': 38, 'n02279972': 39, 'n02281406': 40, 'n02321529': 41, 'n02364673': 42, 'n02395406': 43, 'n02403003': 44, 'n02410509': 45, 'n02415577': 46, 'n02423022': 47, 'n02437312': 48, 'n02480495': 49, 'n02481823': 50, 'n02486410': 51, 'n02504458': 52, 'n02509815': 53, 'n02666347': 54, 'n02669723': 55, 'n02699494': 56, 'n02769748': 57, 'n02788148': 58, 'n02791270': 59, 'n02793495': 60, 'n02795169': 61, 'n02802426': 62, 'n02808440': 63, 'n02814533': 64, 'n02814860': 65, 'n02815834': 66, 'n02823428': 67, 'n02837789': 68, 'n02841315': 69, 'n02843684': 70, 'n02883205': 71, 'n02892201': 72, 'n02909870': 73, 'n02917067': 74, 'n02927161': 75, 'n02948072': 76, 'n02950826': 77, 'n02963159': 78, 'n02977058': 79, 'n02988304': 80, 'n03014705': 81, 'n03026506': 82, 'n03042490': 83, 'n03085013': 84, 'n03089624': 85, 'n03100240': 86, 'n03126707': 87, 'n03160309': 88, 'n03179701': 89, 'n03201208': 90, 'n03255030': 91, 'n03355925': 92, 'n03373237': 93, 'n03388043': 94, 'n03393912': 95, 'n03400231': 96, 'n03404251': 97, 'n03424325': 98, 'n03444034': 99, 'n03447447': 100, 'n03544143': 101, 'n03584254': 102, 'n03599486': 103, 'n03617480': 104, 'n03637318': 105, 'n03649909': 106, 'n03662601': 107, 'n03670208': 108, 'n03706229': 109, 'n03733131': 110, 'n03763968': 111, 'n03770439': 112, 'n03796401': 113, 'n03814639': 114, 'n03837869': 115, 'n03838899': 116, 'n03854065': 117, 'n03891332': 118, 'n03902125': 119, 'n03930313': 120, 'n03937543': 121, 'n03970156': 122, 'n03977966': 123, 'n03980874': 124, 'n03983396': 125, 'n03992509': 126, 'n04008634': 127, 'n04023962': 128, 'n04070727': 129, 'n04074963': 130, 'n04099969': 131, 'n04118538': 132, 'n04133789': 133, 'n04146614': 134, 'n04149813': 135, 'n04179913': 136, 'n04251144': 137, 'n04254777': 138, 'n04259630': 139, 'n04265275': 140, 'n04275548': 141, 'n04285008': 142, 'n04311004': 143, 'n04328186': 144, 'n04356056': 145, 'n04366367': 146, 'n04371430': 147, 'n04376876': 148, 'n04398044': 149, 'n04399382': 150, 'n04417672': 151, 'n04456115': 152, 'n04465666': 153, 'n04486054': 154, 'n04487081': 155, 'n04501370': 156, 'n04507155': 157, 'n04532106': 158, 'n04532670': 159, 'n04540053': 160, 'n04560804': 161, 'n04562935': 162, 'n04596742': 163, 'n04598010': 164, 'n06596364': 165, 'n07056680': 166, 'n07583066': 167, 'n07614500': 168, 'n07615774': 169, 'n07646821': 170, 'n07647870': 171, 'n07657664': 172, 'n07695742': 173, 'n07711569': 174, 'n07715103': 175, 'n07720875': 176, 'n07749582': 177, 'n07753592': 178, 'n07768694': 179, 'n07871810': 180, 'n07873807': 181, 'n07875152': 182, 'n07920052': 183, 'n07975909': 184, 'n08496334': 185, 'n08620881': 186, 'n08742578': 187, 'n09193705': 188, 'n09246464': 189, 'n09256479': 190, 'n09332890': 191, 'n09428293': 192, 'n12267677': 193, 'n12520864': 194, 'n13001041': 195, 'n13652335': 196, 'n13652994': 197, 'n13719102': 198, 'n14991210': 199}\n"
     ]
    }
   ],
   "source": [
    "id2label = {idx: label for idx, label in enumerate(test_ds.features[\"label\"].names)}\n",
    "label2id = {label: idx for idx, label in id2label.items()}\n",
    "print(id2label)\n",
    "print(label2id)"
   ],
   "metadata": {
    "collapsed": false,
    "ExecuteTime": {
     "end_time": "2023-09-10T18:10:08.073433300Z",
     "start_time": "2023-09-10T18:10:08.065456500Z"
    }
   },
   "id": "7478fc38cafcb8bf"
  },
  {
   "cell_type": "code",
   "execution_count": 15,
   "outputs": [],
   "source": [
    "from transformers import PerceiverFeatureExtractor\n",
    "\n",
    "feature_extractor = PerceiverFeatureExtractor()"
   ],
   "metadata": {
    "collapsed": false,
    "ExecuteTime": {
     "end_time": "2023-09-10T18:10:16.414670400Z",
     "start_time": "2023-09-10T18:10:15.465024300Z"
    }
   },
   "id": "fdace014f2d54423"
  },
  {
   "cell_type": "code",
   "execution_count": 16,
   "outputs": [],
   "source": [
    "def preprocess_images(examples):\n",
    "    examples['pixel_values'] = feature_extractor(examples[\"image\"], return_tensors=\"pt\").pixel_values\n",
    "    return examples"
   ],
   "metadata": {
    "collapsed": false,
    "ExecuteTime": {
     "end_time": "2023-09-10T18:10:18.776325200Z",
     "start_time": "2023-09-10T18:10:18.763359Z"
    }
   },
   "id": "6764b02e346b818c"
  },
  {
   "cell_type": "code",
   "execution_count": 17,
   "outputs": [],
   "source": [
    "test_ds.set_transform(preprocess_images)"
   ],
   "metadata": {
    "collapsed": false,
    "ExecuteTime": {
     "end_time": "2023-09-10T18:10:23.970871700Z",
     "start_time": "2023-09-10T18:10:23.955910100Z"
    }
   },
   "id": "21a262e0d865c564"
  },
  {
   "cell_type": "code",
   "execution_count": 18,
   "outputs": [],
   "source": [
    "# --------------------------------------------------------\n",
    "# Swin Transformer\n",
    "# Copyright (c) 2021 Microsoft\n",
    "# Licensed under The MIT License [see LICENSE for details]\n",
    "# Written by Ze Liu\n",
    "# --------------------------------------------------------\n",
    "# Vision Transformer with Deformable Attention\n",
    "# Modified by Zhuofan Xia\n",
    "# --------------------------------------------------------\n",
    "\n",
    "import math\n",
    "import torch\n",
    "import torch.nn as nn\n",
    "import torch.nn.functional as F\n",
    "import einops\n",
    "from timm.models.layers import to_2tuple, trunc_normal_\n",
    "\n",
    "\n",
    "class DAttentionBaseline(nn.Module):\n",
    "\n",
    "    def __init__(\n",
    "            self, q_size, kv_size, n_heads, n_head_channels, n_groups,\n",
    "            attn_drop, proj_drop, stride,\n",
    "            offset_range_factor, use_pe, dwc_pe,\n",
    "            no_off, fixed_pe, stage_idx\n",
    "    ):\n",
    "\n",
    "        super().__init__()\n",
    "        self.dwc_pe = dwc_pe\n",
    "        self.n_head_channels = n_head_channels\n",
    "        self.scale = self.n_head_channels ** -0.5\n",
    "        self.n_heads = n_heads\n",
    "        self.q_h, self.q_w = q_size\n",
    "        self.kv_h, self.kv_w = kv_size\n",
    "        self.nc = n_head_channels * n_heads\n",
    "        self.n_groups = n_groups\n",
    "        self.n_group_channels = self.nc // self.n_groups\n",
    "        self.n_group_heads = self.n_heads // self.n_groups\n",
    "        self.use_pe = use_pe\n",
    "        self.fixed_pe = fixed_pe\n",
    "        self.no_off = no_off\n",
    "        self.offset_range_factor = offset_range_factor\n",
    "\n",
    "        ksizes = [9, 7, 5, 3]\n",
    "        kk = ksizes[stage_idx]\n",
    "\n",
    "        self.conv_offset = nn.Sequential(\n",
    "            nn.Conv2d(self.n_group_channels, self.n_group_channels, kk, stride, kk // 2, groups=self.n_group_channels),\n",
    "            LayerNormProxy(self.n_group_channels),\n",
    "            nn.GELU(),\n",
    "            nn.Conv2d(self.n_group_channels, 2, 1, 1, 0, bias=False)\n",
    "        )\n",
    "\n",
    "        self.proj_q = nn.Conv2d(\n",
    "            self.nc, self.nc,\n",
    "            kernel_size=1, stride=1, padding=0\n",
    "        )\n",
    "\n",
    "        self.proj_k = nn.Conv2d(\n",
    "            self.nc, self.nc,\n",
    "            kernel_size=1, stride=1, padding=0\n",
    "        )\n",
    "\n",
    "        self.proj_v = nn.Conv2d(\n",
    "            self.nc, self.nc,\n",
    "            kernel_size=1, stride=1, padding=0\n",
    "        )\n",
    "\n",
    "        self.proj_out = nn.Conv2d(\n",
    "            self.nc, self.nc,\n",
    "            kernel_size=1, stride=1, padding=0\n",
    "        )\n",
    "\n",
    "        self.proj_drop = nn.Dropout(proj_drop, inplace=True)\n",
    "        self.attn_drop = nn.Dropout(attn_drop, inplace=True)\n",
    "\n",
    "        if self.use_pe:\n",
    "            if self.dwc_pe:\n",
    "                self.rpe_table = nn.Conv2d(self.nc, self.nc,\n",
    "                                           kernel_size=3, stride=1, padding=1, groups=self.nc)\n",
    "            elif self.fixed_pe:\n",
    "                self.rpe_table = nn.Parameter(\n",
    "                    torch.zeros(self.n_heads, self.q_h * self.q_w, self.kv_h * self.kv_w)\n",
    "                )\n",
    "                trunc_normal_(self.rpe_table, std=0.01)\n",
    "            else:\n",
    "                self.rpe_table = nn.Parameter(\n",
    "                    torch.zeros(self.n_heads, self.kv_h * 2 - 1, self.kv_w * 2 - 1)\n",
    "                )\n",
    "                trunc_normal_(self.rpe_table, std=0.01)\n",
    "        else:\n",
    "            self.rpe_table = None\n",
    "\n",
    "    @torch.no_grad()\n",
    "    def _get_ref_points(self, H_key, W_key, B, dtype, device):\n",
    "\n",
    "        ref_y, ref_x = torch.meshgrid(\n",
    "            torch.linspace(0.5, H_key - 0.5, H_key, dtype=dtype, device=device),\n",
    "            torch.linspace(0.5, W_key - 0.5, W_key, dtype=dtype, device=device)\n",
    "        )\n",
    "        ref = torch.stack((ref_y, ref_x), -1)\n",
    "        ref[..., 1].div_(W_key).mul_(2).sub_(1)\n",
    "        ref[..., 0].div_(H_key).mul_(2).sub_(1)\n",
    "        ref = ref[None, ...].expand(B * self.n_groups, -1, -1, -1)  # B * g H W 2\n",
    "\n",
    "        return ref\n",
    "\n",
    "    def forward(self, x):\n",
    "\n",
    "        B, C, H, W = x.size()\n",
    "        dtype, device = x.dtype, x.device\n",
    "\n",
    "        q = self.proj_q(x)\n",
    "        q_off = einops.rearrange(q, 'b (g c) h w -> (b g) c h w', g=self.n_groups, c=self.n_group_channels)\n",
    "        offset = self.conv_offset(q_off)  # B * g 2 Hg Wg\n",
    "        Hk, Wk = offset.size(2), offset.size(3)\n",
    "        n_sample = Hk * Wk\n",
    "\n",
    "        if self.offset_range_factor > 0:\n",
    "            offset_range = torch.tensor([1.0 / Hk, 1.0 / Wk], device=device).reshape(1, 2, 1, 1)\n",
    "            offset = offset.tanh().mul(offset_range).mul(self.offset_range_factor)\n",
    "\n",
    "        offset = einops.rearrange(offset, 'b p h w -> b h w p')\n",
    "        reference = self._get_ref_points(Hk, Wk, B, dtype, device)\n",
    "\n",
    "        if self.no_off:\n",
    "            offset = offset.fill(0.0)\n",
    "\n",
    "        if self.offset_range_factor >= 0:\n",
    "            pos = offset + reference\n",
    "        else:\n",
    "            pos = (offset + reference).tanh()\n",
    "\n",
    "        x_sampled = F.grid_sample(\n",
    "            input=x.reshape(B * self.n_groups, self.n_group_channels, H, W),\n",
    "            grid=pos[..., (1, 0)],  # y, x -> x, y\n",
    "            mode='bilinear', align_corners=True)  # B * g, Cg, Hg, Wg\n",
    "\n",
    "        x_sampled = x_sampled.reshape(B, C, 1, n_sample)\n",
    "\n",
    "        q = q.reshape(B * self.n_heads, self.n_head_channels, H * W)\n",
    "        k = self.proj_k(x_sampled).reshape(B * self.n_heads, self.n_head_channels, n_sample)\n",
    "        v = self.proj_v(x_sampled).reshape(B * self.n_heads, self.n_head_channels, n_sample)\n",
    "\n",
    "        attn = torch.einsum('b c m, b c n -> b m n', q, k)  # B * h, HW, Ns\n",
    "        attn = attn.mul(self.scale)\n",
    "\n",
    "        if self.use_pe:\n",
    "\n",
    "            if self.dwc_pe:\n",
    "                residual_lepe = self.rpe_table(q.reshape(B, C, H, W)).reshape(B * self.n_heads, self.n_head_channels,\n",
    "                                                                              H * W)\n",
    "            elif self.fixed_pe:\n",
    "                rpe_table = self.rpe_table\n",
    "                attn_bias = rpe_table[None, ...].expand(B, -1, -1, -1)\n",
    "                attn = attn + attn_bias.reshape(B * self.n_heads, H * W, self.n_sample)\n",
    "            else:\n",
    "                rpe_table = self.rpe_table\n",
    "                rpe_bias = rpe_table[None, ...].expand(B, -1, -1, -1)\n",
    "\n",
    "                q_grid = self._get_ref_points(H, W, B, dtype, device)\n",
    "\n",
    "                displacement = (\n",
    "                            q_grid.reshape(B * self.n_groups, H * W, 2).unsqueeze(2) - pos.reshape(B * self.n_groups,\n",
    "                                                                                                   n_sample,\n",
    "                                                                                                   2).unsqueeze(1)).mul(\n",
    "                    0.5)\n",
    "\n",
    "                attn_bias = F.grid_sample(\n",
    "                    input=rpe_bias.reshape(B * self.n_groups, self.n_group_heads, 2 * H - 1, 2 * W - 1),\n",
    "                    grid=displacement[..., (1, 0)],\n",
    "                    mode='bilinear', align_corners=True\n",
    "                )  # B * g, h_g, HW, Ns\n",
    "\n",
    "                attn_bias = attn_bias.reshape(B * self.n_heads, H * W, n_sample)\n",
    "\n",
    "                attn = attn + attn_bias\n",
    "\n",
    "        attn = F.softmax(attn, dim=2)\n",
    "        attn = self.attn_drop(attn)\n",
    "\n",
    "        out = torch.einsum('b m n, b c n -> b c m', attn, v)\n",
    "\n",
    "        if self.use_pe and self.dwc_pe:\n",
    "            out = out + residual_lepe\n",
    "        out = out.reshape(B, C, H, W)\n",
    "\n",
    "        y = self.proj_drop(self.proj_out(out))\n",
    "\n",
    "        return y, pos.reshape(B, self.n_groups, Hk, Wk, 2), reference.reshape(B, self.n_groups, Hk, Wk, 2)\n",
    "\n",
    "\n",
    "class LayerNormProxy(nn.Module):\n",
    "\n",
    "    def __init__(self, dim):\n",
    "        super().__init__()\n",
    "        self.norm = nn.LayerNorm(dim)\n",
    "\n",
    "    def forward(self, x):\n",
    "        x = einops.rearrange(x, 'b c h w -> b h w c')\n",
    "        x = self.norm(x)\n",
    "        return einops.rearrange(x, 'b h w c -> b c h w')"
   ],
   "metadata": {
    "collapsed": false,
    "ExecuteTime": {
     "end_time": "2023-09-10T18:10:27.885374300Z",
     "start_time": "2023-09-10T18:10:26.590781700Z"
    }
   },
   "id": "b9af1059a137245"
  },
  {
   "cell_type": "code",
   "execution_count": 19,
   "outputs": [],
   "source": [
    "from timm.models.layers import DropPath, to_2tuple\n",
    "\n",
    "img_size = 224\n",
    "patch_size = 4\n",
    "img_size = img_size // patch_size\n",
    "heads = 32\n",
    "dim_embed = 1024\n",
    "n_groups = 8\n",
    "hc = dim_embed // heads\n",
    "attn_drop = 0.0\n",
    "proj_drop = 0.0\n",
    "stride = 1\n",
    "offset_range_factor = 2\n",
    "use_pe = True\n",
    "dwc_pe = False\n",
    "no_off = False\n",
    "fixed_pe = False\n",
    "stage_idx = 0\n",
    "\n",
    "fmap_size = to_2tuple(img_size)"
   ],
   "metadata": {
    "collapsed": false,
    "ExecuteTime": {
     "end_time": "2023-09-10T18:10:36.436079400Z",
     "start_time": "2023-09-10T18:10:36.421121200Z"
    }
   },
   "id": "e91330b8f79c642e"
  },
  {
   "cell_type": "code",
   "execution_count": 82,
   "outputs": [],
   "source": [
    "from transformers import PerceiverForImageClassificationLearned\n",
    "from torchmetrics import MetricCollection\n",
    "from torchmetrics.classification import Accuracy, Precision, Recall, F1Score\n",
    "import lightning.pytorch as pl\n",
    "import multiprocessing as mp\n",
    "\n",
    "\n",
    "class DeformablePerceiverProd(pl.LightningModule):\n",
    "    def __init__(self, num_classes, id2label, label2id, learning_rate, batch_size):\n",
    "        super().__init__()\n",
    "        self.basePerceiver = PerceiverForImageClassificationLearned.from_pretrained(\"deepmind/vision-perceiver-learned\",\n",
    "                                                                                    num_labels=num_classes,\n",
    "                                                                                    id2label=id2label,\n",
    "                                                                                    label2id=label2id,\n",
    "                                                                                    ignore_mismatched_sizes=True)\n",
    "\n",
    "        #Set learning rate\n",
    "        self.learning_rate = learning_rate\n",
    "\n",
    "        #Set batch size\n",
    "        self.batch_size = batch_size\n",
    "\n",
    "        #Set num workers\n",
    "        self.num_workers = mp.cpu_count()\n",
    "\n",
    "        #Create metrics collection only for training\n",
    "        metrics = MetricCollection({\n",
    "            \"accuracy\": Accuracy(task=\"multiclass\", num_classes=num_classes, average=\"macro\"),\n",
    "            \"precision\": Precision(task=\"multiclass\", num_classes=num_classes, average=\"macro\"),\n",
    "            \"recall\": Recall(task=\"multiclass\", num_classes=num_classes, average=\"macro\"),\n",
    "            \"f1\": F1Score(task=\"multiclass\", num_classes=num_classes, average=\"macro\")\n",
    "        })\n",
    "\n",
    "        self.accuracy = Accuracy(task='multiclass', num_classes=num_classes, average='macro', top_k=1)\n",
    "        self.precision = Precision(task='multiclass', num_classes=num_classes, average='macro', top_k=1)\n",
    "        self.recall = Recall(task='multiclass', num_classes=num_classes, average='macro', top_k=1)\n",
    "        self.f1 = F1Score(task='multiclass', num_classes=num_classes, average='macro', top_k=1)\n",
    "\n",
    "        self.train_metrics = metrics.clone(prefix=\"train_\")\n",
    "\n",
    "        #Freeze encoder layers\n",
    "        self.basePerceiver.perceiver.input_preprocessor.requires_grad_(False)\n",
    "        self.basePerceiver.perceiver.embeddings.requires_grad_(False)\n",
    "        for module in self.basePerceiver.perceiver.encoder.modules():\n",
    "            module.requires_grad_(False)\n",
    "\n",
    "        #Freeze decoder layers\n",
    "        self.basePerceiver.perceiver.decoder.decoder.output_position_encodings.requires_grad_(False)\n",
    "        self.basePerceiver.perceiver.decoder.decoder.positions_projection.requires_grad_(False)\n",
    "        self.basePerceiver.perceiver.decoder.decoder.decoding_cross_attention.requires_grad_(False)\n",
    "\n",
    "        #Add new layers\n",
    "        self.basePerceiver.perceiver.encoder.add_module(\"pre_deformable_attetion\", torch.nn.Linear(1024, dim_embed))\n",
    "        self.basePerceiver.perceiver.encoder.add_module(\n",
    "            \"deformable_attetion\", DAttentionBaseline(\n",
    "                fmap_size, fmap_size, heads,\n",
    "                hc, n_groups, attn_drop, proj_drop,\n",
    "                stride, offset_range_factor, use_pe, dwc_pe,\n",
    "                no_off, fixed_pe, stage_idx\n",
    "            )\n",
    "        )\n",
    "        self.num_classes = num_classes\n",
    "\n",
    "    def forward(self, inputs, labels):\n",
    "        outputs = self.basePerceiver(inputs=inputs, labels=labels)\n",
    "        return outputs\n",
    "\n",
    "    def predict_step(self, batch, batch_idx, dataloader_idx=0):\n",
    "        inputs, labels = batch[\"pixel_values\"], batch[\"labels\"]\n",
    "        outputs = self(inputs=inputs, labels=labels)\n",
    "        preds = outputs.logits.argmax(-1)\n",
    "        return preds"
   ],
   "metadata": {
    "collapsed": false,
    "ExecuteTime": {
     "end_time": "2023-09-10T18:31:03.676081100Z",
     "start_time": "2023-09-10T18:31:03.651147900Z"
    }
   },
   "id": "d2f252fba4910bb2"
  },
  {
   "cell_type": "code",
   "execution_count": 83,
   "outputs": [],
   "source": [
    "opt_lr = 5e-4\n",
    "opt_batch_size = 20"
   ],
   "metadata": {
    "collapsed": false,
    "ExecuteTime": {
     "end_time": "2023-09-10T18:31:05.414152300Z",
     "start_time": "2023-09-10T18:31:05.394166700Z"
    }
   },
   "id": "e9a33106a32710ca"
  },
  {
   "cell_type": "code",
   "execution_count": 84,
   "outputs": [
    {
     "name": "stderr",
     "output_type": "stream",
     "text": [
      "Some weights of PerceiverForImageClassificationLearned were not initialized from the model checkpoint at deepmind/vision-perceiver-learned and are newly initialized because the shapes did not match:\n",
      "- perceiver.decoder.decoder.final_layer.weight: found shape torch.Size([1000, 1024]) in the checkpoint and torch.Size([200, 1024]) in the model instantiated\n",
      "- perceiver.decoder.decoder.final_layer.bias: found shape torch.Size([1000]) in the checkpoint and torch.Size([200]) in the model instantiated\n",
      "You should probably TRAIN this model on a down-stream task to be able to use it for predictions and inference.\n"
     ]
    }
   ],
   "source": [
    "model = DeformablePerceiverProd.load_from_checkpoint(\n",
    "    checkpoint_path=\"models/checkpoints/tiny-image-net-deformable/last-v1.ckpt\",\n",
    "    num_classes=200, id2label=id2label, label2id=label2id, learning_rate=opt_lr, batch_size=opt_batch_size\n",
    ")"
   ],
   "metadata": {
    "collapsed": false,
    "ExecuteTime": {
     "end_time": "2023-09-10T18:31:09.249974800Z",
     "start_time": "2023-09-10T18:31:06.911261200Z"
    }
   },
   "id": "c0f058d43dd93446"
  },
  {
   "cell_type": "code",
   "execution_count": 117,
   "outputs": [
    {
     "name": "stderr",
     "output_type": "stream",
     "text": [
      "Using 16bit Automatic Mixed Precision (AMP)\n",
      "GPU available: True (cuda), used: True\n",
      "TPU available: False, using: 0 TPU cores\n",
      "IPU available: False, using: 0 IPUs\n",
      "HPU available: False, using: 0 HPUs\n"
     ]
    }
   ],
   "source": [
    "from lightning.pytorch import Trainer\n",
    "\n",
    "trainer = Trainer(\n",
    "    deterministic=True,\n",
    "    precision=16,\n",
    "    accelerator=\"gpu\",\n",
    "    devices=1\n",
    ")"
   ],
   "metadata": {
    "collapsed": false,
    "ExecuteTime": {
     "end_time": "2023-09-10T18:55:16.259789700Z",
     "start_time": "2023-09-10T18:55:16.174978700Z"
    }
   },
   "id": "306c7819de999d7d"
  },
  {
   "cell_type": "code",
   "execution_count": 118,
   "outputs": [],
   "source": [
    "def collate_fn(examples):\n",
    "    pixel_values = torch.stack([example[\"pixel_values\"] for example in examples])\n",
    "    return {\"pixel_values\": pixel_values, \"labels\": None}"
   ],
   "metadata": {
    "collapsed": false,
    "ExecuteTime": {
     "end_time": "2023-09-10T18:55:19.800100900Z",
     "start_time": "2023-09-10T18:55:19.781148900Z"
    }
   },
   "id": "18f5bd95ae4d20e4"
  },
  {
   "cell_type": "code",
   "execution_count": 119,
   "outputs": [
    {
     "data": {
      "text/plain": "<PIL.Image.Image image mode=RGB size=224x224 at 0x1490306BC10>",
      "image/png": "[encoded data removed]"
     },
     "metadata": {},
     "output_type": "display_data"
    },
    {
     "name": "stdout",
     "output_type": "stream",
     "text": [
      "actual class 158\n"
     ]
    }
   ],
   "source": [
    "pred_index = 7777\n",
    "display(test_ds[pred_index][\"image\"].resize((224, 224)))\n",
    "print(f\"actual class {test_ds[pred_index]['label']}\")"
   ],
   "metadata": {
    "collapsed": false,
    "ExecuteTime": {
     "end_time": "2023-09-10T18:55:22.258717300Z",
     "start_time": "2023-09-10T18:55:22.191894100Z"
    }
   },
   "id": "3e291d0e416377ff"
  },
  {
   "cell_type": "code",
   "execution_count": 120,
   "outputs": [
    {
     "name": "stderr",
     "output_type": "stream",
     "text": [
      "LOCAL_RANK: 0 - CUDA_VISIBLE_DEVICES: [0]\n"
     ]
    },
    {
     "data": {
      "text/plain": "Predicting: 0it [00:00, ?it/s]",
      "application/vnd.jupyter.widget-view+json": {
       "version_major": 2,
       "version_minor": 0,
       "model_id": "61767b491d644bada5dba90b4ba2eee9"
      }
     },
     "metadata": {},
     "output_type": "display_data"
    },
    {
     "name": "stdout",
     "output_type": "stream",
     "text": [
      "Predicted classes: [158]\n",
      "Actual classes: [158]\n"
     ]
    }
   ],
   "source": [
    "from torch.utils.data import DataLoader\n",
    "from torch.utils.data import Subset\n",
    "\n",
    "pred_index_list = list([pred_index])\n",
    "\n",
    "predict_dataloader = DataLoader(Subset(test_ds, pred_index_list), collate_fn=collate_fn, batch_size=1)\n",
    "\n",
    "output = trainer.predict(model=model, dataloaders=predict_dataloader)\n",
    "output = [i.item() for i in output]\n",
    "\n",
    "print(f\"Predicted classes: {output}\")\n",
    "print(f\"Actual classes: {test_ds[pred_index_list]['label']}\")"
   ],
   "metadata": {
    "collapsed": false,
    "ExecuteTime": {
     "end_time": "2023-09-10T18:55:27.521254700Z",
     "start_time": "2023-09-10T18:55:26.863016400Z"
    }
   },
   "id": "c5dad09680d51793"
  }
 ],
 "metadata": {
  "kernelspec": {
   "display_name": "Python 3",
   "language": "python",
   "name": "python3"
  },
  "language_info": {
   "codemirror_mode": {
    "name": "ipython",
    "version": 2
   },
   "file_extension": ".py",
   "mimetype": "text/x-python",
   "name": "python",
   "nbconvert_exporter": "python",
   "pygments_lexer": "ipython2",
   "version": "2.7.6"
  }
 },
 "nbformat": 4,
 "nbformat_minor": 5
}
